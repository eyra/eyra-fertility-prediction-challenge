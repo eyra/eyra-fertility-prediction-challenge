{
 "cells": [
  {
   "cell_type": "code",
   "execution_count": null,
   "metadata": {},
   "outputs": [],
   "source": [
    "import pandas as pd\n",
    "from sklearn.compose import ColumnTransformer\n",
    "from sklearn.preprocessing import OneHotEncoder\n",
    "from sklearn.preprocessing import StandardScaler\n",
    "from sklearn.linear_model import LogisticRegression\n",
    "from sklearn.pipeline import make_pipeline\n",
    "from sklearn.model_selection import cross_validate\n",
    "from sklearn.compose import make_column_selector as selector"
   ]
  },
  {
   "cell_type": "code",
   "execution_count": null,
   "metadata": {},
   "outputs": [],
   "source": [
    "data = pd.read_csv('../data/LISS_example_input_data.csv', encoding='cp1252')\n"
   ]
  },
  {
   "cell_type": "code",
   "execution_count": null,
   "metadata": {},
   "outputs": [],
   "source": [
    "outcome = pd.read_csv('../data/LISS_example_groundtruth_data.csv')"
   ]
  },
  {
   "cell_type": "code",
   "execution_count": null,
   "metadata": {},
   "outputs": [],
   "source": [
    "data_orig = data.copy()"
   ]
  },
  {
   "cell_type": "code",
   "execution_count": null,
   "metadata": {},
   "outputs": [],
   "source": [
    "data = data_orig.copy()"
   ]
  },
  {
   "cell_type": "code",
   "execution_count": null,
   "metadata": {},
   "outputs": [],
   "source": [
    "# Defining an household id and dropping those which are nas.\n",
    "data = data.rename(columns = {'nohouse_encr2019':'hh_id'})\n",
    "# Identify columns to be dropped\n",
    "columns_to_drop = [col for col in data.columns if col.startswith('nohouse_encr')]\n",
    "\n",
    "# Drop the columns\n",
    "data = data.drop(columns_to_drop, axis=1)\n",
    "\n",
    "# Filtering out those households that do not have an household id.\n",
    "data = data.loc[data['hh_id'].notna()]\n",
    "outcome = outcome.merge(data[['nomem_encr','hh_id']], on = 'nomem_encr')\n",
    "\n",
    "# Filtering out individuals where target (new_child) is na.\n",
    "outcome = outcome.loc[outcome['new_child'].notna()]\n",
    "data = data.loc[data['hh_id'].isin(outcome['hh_id'])]\n",
    "\n",
    "# Dropping columns with only na values.\n",
    "data = data.loc[:,data.isna().sum() != len(data)].copy()"
   ]
  },
  {
   "cell_type": "code",
   "execution_count": null,
   "metadata": {},
   "outputs": [],
   "source": [
    "outcome = pd.concat([outcome,data[['nomem_encr','hh_id']].assign(new_child = 0)], ignore_index=True)\n",
    "outcome = outcome.sort_values(by = 'new_child', ascending = False)\n",
    "outcome = outcome.drop_duplicates(subset = 'nomem_encr')\n",
    "outcome = outcome.set_index(['hh_id','nomem_encr'])"
   ]
  },
  {
   "cell_type": "code",
   "execution_count": null,
   "metadata": {},
   "outputs": [],
   "source": [
    "# Setting the index.\n",
    "data = data.set_index(['hh_id','nomem_encr'])"
   ]
  },
  {
   "cell_type": "code",
   "execution_count": null,
   "metadata": {},
   "outputs": [],
   "source": [
    "data = data.loc[:,['leeftijd2019',\n",
    "          'geslacht',\n",
    "          'positie2019',\n",
    "          'aantalhh2019',\n",
    "          'aantalki2019',\n",
    "          'partner2019',\n",
    "          'burgstat2019',\n",
    "          'woonvorm2019',\n",
    "          'woning2019',\n",
    "          'sted2019',\n",
    "          'belbezig2019',\n",
    "          'brutoink2019',\n",
    "          'brutoink_f2019',\n",
    "          'netinc2019',\n",
    "          'brutohh_f2019',\n",
    "          'nettohh_f2019',\n",
    "          'oplzon2019',\n",
    "          'oplmet2019',\n",
    "          'doetmee2019',\n",
    "          'herkomstgroep2019',\n",
    "          'simpc2019']]"
   ]
  },
  {
   "cell_type": "code",
   "execution_count": null,
   "metadata": {},
   "outputs": [],
   "source": [
    "categorical_columns_selector = selector(dtype_include = object)\n",
    "categorical_columns = categorical_columns_selector(data)\n",
    "\n",
    "numerical_columns_selector = selector(dtype_include = \"float64\")\n",
    "numerical_columns = numerical_columns_selector(data)"
   ]
  },
  {
   "cell_type": "code",
   "execution_count": null,
   "metadata": {},
   "outputs": [],
   "source": [
    "encoder = OneHotEncoder(handle_unknown='ignore', drop = 'first')\n",
    "scaler = StandardScaler()\n",
    "preprocessor = ColumnTransformer(\n",
    "    [\n",
    "        ('on-hot-encoder',encoder,categorical_columns),\n",
    "        ('standard_scaler',scaler,numerical_columns),\n",
    "    ]\n",
    ")\n"
   ]
  },
  {
   "cell_type": "code",
   "execution_count": null,
   "metadata": {},
   "outputs": [],
   "source": [
    "model = make_pipeline(preprocessor,LogisticRegression(max_iter=500))\n"
   ]
  },
  {
   "cell_type": "code",
   "execution_count": null,
   "metadata": {},
   "outputs": [],
   "source": [
    "# replace income by income categories if not available?"
   ]
  },
  {
   "cell_type": "code",
   "execution_count": null,
   "metadata": {},
   "outputs": [],
   "source": [
    "data"
   ]
  },
  {
   "cell_type": "code",
   "execution_count": null,
   "metadata": {},
   "outputs": [],
   "source": [
    "cross_validate(model,data,outcome,cv = 5)"
   ]
  }
 ],
 "metadata": {
  "kernelspec": {
   "display_name": "ODISSEI_day_1",
   "language": "python",
   "name": "python3"
  },
  "language_info": {
   "codemirror_mode": {
    "name": "ipython",
    "version": 3
   },
   "file_extension": ".py",
   "mimetype": "text/x-python",
   "name": "python",
   "nbconvert_exporter": "python",
   "pygments_lexer": "ipython3",
   "version": "3.9.1"
  },
  "orig_nbformat": 4
 },
 "nbformat": 4,
 "nbformat_minor": 2
}
